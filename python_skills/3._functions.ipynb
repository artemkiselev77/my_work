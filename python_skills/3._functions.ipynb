{
 "cells": [
  {
   "cell_type": "markdown",
   "metadata": {},
   "source": [
    "Вы работаете секретарем и вам постоянно приходят различные документы. Вы должны быть очень внимательны, чтобы не потерять ни один документ. Каталог документов хранится в следующем виде:"
   ]
  },
  {
   "cell_type": "code",
   "execution_count": 2,
   "metadata": {},
   "outputs": [],
   "source": [
    "documents = [\n",
    "    {'type': 'passport', 'number': '2207 876234', 'name': 'Василий Гупкин'},\n",
    "    {'type': 'invoice', 'number': '11-2', 'name': 'Геннадий Покемонов'},\n",
    "    {'type': 'insurance', 'number': '10006', 'name': 'Аристарх Павлов'}\n",
    "]\n"
   ]
  },
  {
   "cell_type": "markdown",
   "metadata": {},
   "source": [
    "Перечень полок, на которых находятся документы хранится в следующем виде:"
   ]
  },
  {
   "cell_type": "code",
   "execution_count": 3,
   "metadata": {},
   "outputs": [],
   "source": [
    "directories = {\n",
    "    \n",
    "    '1': ['2207 876234', '11-2'],\n",
    "    '2': ['10006'],\n",
    "    '3': []\n",
    "}"
   ]
  },
  {
   "cell_type": "code",
   "execution_count": 26,
   "metadata": {},
   "outputs": [],
   "source": [
    "def name_doc_owner(list1):\n",
    "    user_input2 = input('введите номер документа')\n",
    "    found = False\n",
    "    for list_ in list1:\n",
    "        for key, value in list_.items():  \n",
    "            if user_input2 == value:\n",
    "                found = True\n",
    "                #print(list_['name'])\n",
    "                return (list_['name'])\n",
    "    if found == False:\n",
    "        return ('такого документа нет') "
   ]
  },
  {
   "cell_type": "code",
   "execution_count": 5,
   "metadata": {},
   "outputs": [],
   "source": [
    "def shelf_of_doc_number(dict1):\n",
    "    user_input2 = input('введите номер документа')\n",
    "    found = False\n",
    "    for key, value in dict1.items():  \n",
    "        #print(key)   \n",
    "        if user_input2 in value:\n",
    "            found = True\n",
    "            return key\n",
    "    if found == False:\n",
    "        print('такого номера документа не существует')\n",
    "        "
   ]
  },
  {
   "cell_type": "code",
   "execution_count": 53,
   "metadata": {},
   "outputs": [],
   "source": [
    "def shows_all_docs_and_owners(list1):\n",
    "    for list_ in list1:\n",
    "        print(list_['type'], list_['number'], list_['name'])     "
   ]
  },
  {
   "cell_type": "code",
   "execution_count": 7,
   "metadata": {},
   "outputs": [],
   "source": [
    "def adds_new_shelf(list1):\n",
    "    user_input2 = input('введите номер новой полки')\n",
    "    if user_input2 in list1.keys():\n",
    "        print('Данная полка уже существует')\n",
    "    else:\n",
    "        list1[user_input2] = []\n",
    "        #print(directories)\n",
    "    return list1"
   ]
  },
  {
   "cell_type": "code",
   "execution_count": 8,
   "metadata": {},
   "outputs": [],
   "source": [
    "def delete_doc_from_all(list1, dict1):\n",
    "    user_input2 = input('введите номер документа')\n",
    "    found = False\n",
    "    for list_ in list1:\n",
    "        if user_input2 in list_.values():\n",
    "            found = True\n",
    "            s = (list1.index(list_))\n",
    "            del(list1[s])\n",
    "       \n",
    "    if found == False:\n",
    "        print('данного документа нет')\n",
    "    else:\n",
    "        print('документ удален из папки \"Documents\"')\n",
    "    \n",
    "    for value in dict1.values():\n",
    "        if user_input2 in value:\n",
    "            found = True\n",
    "            d = value.index(user_input2)\n",
    "            del(value[d])\n",
    "    if found == False:\n",
    "        print('данного документа нет')\n",
    "    else:\n",
    "        print('документ удален из папки \"Derictories\"')\n",
    "    return list1, dict1"
   ]
  },
  {
   "cell_type": "code",
   "execution_count": 9,
   "metadata": {},
   "outputs": [],
   "source": [
    "def move_doc_from_shelf(dict1):\n",
    "    user_input2 = input('введите номер документа')\n",
    "    user_input3 = input('введите номер новой полки')\n",
    "    found = False\n",
    "    for value in dict1.values():\n",
    "        if user_input2 in value:\n",
    "            found = True\n",
    "            d = value.index(user_input2)\n",
    "            if user_input3 in directories:\n",
    "                dict1[user_input3].append(value[d])\n",
    "                del(value[d])\n",
    "            else:\n",
    "                found = False\n",
    "    if found == False:\n",
    "        print('данного документа или полки нет')\n",
    "    else:\n",
    "        print('документ перемещен')\n",
    "\n",
    "    return directories"
   ]
  },
  {
   "cell_type": "code",
   "execution_count": 10,
   "metadata": {},
   "outputs": [],
   "source": [
    "def add_doc(list1, dict1):\n",
    "    doc_num = input('введите номер документа')\n",
    "    doc_type = input('введите тип нового документа')\n",
    "    doc_name = input('введите имя владельца документа')\n",
    "    doc_shelf = input('введите номер полки для нового документа')\n",
    "    a = {}\n",
    "    a['type'] = doc_type\n",
    "    a['number'] = doc_num\n",
    "    a['name'] = doc_name\n",
    "    if doc_shelf not in directories:\n",
    "        print('такой полки не существует')\n",
    "    else:\n",
    "        list1.append(a)\n",
    "        dict1[doc_shelf].append(doc_num)\n",
    "    return list1, dict1"
   ]
  },
  {
   "cell_type": "code",
   "execution_count": 54,
   "metadata": {},
   "outputs": [
    {
     "name": "stdout",
     "output_type": "stream",
     "text": [
      "введите командуl\n",
      "passport 2207 876234 Василий Гупкин\n",
      "invoice 11-2 Геннадий Покемонов\n",
      "insurance 10006 Аристарх Павлов\n",
      "None\n"
     ]
    }
   ],
   "source": [
    "user_input1 = input('введите команду')\n",
    "if user_input1 == 'p':\n",
    "    print(name_doc_owner(documents))\n",
    "elif user_input1 == 's':\n",
    "    print(shelf_of_doc_number(directories))\n",
    "elif user_input1 == 'l':\n",
    "    print(shows_all_docs_and_owners(documents))\n",
    "elif user_input1 == 'as':\n",
    "    print(adds_new_shelf(directories))\n",
    "elif user_input1 == 'd':\n",
    "    print(delete_doc_from_all(documents, directories))\n",
    "elif user_input1 == 'm':\n",
    "    print(move_doc_from_shelf(directories))\n",
    "elif user_input1 == 'a':\n",
    "    print(add_doc(documents, directories))"
   ]
  },
  {
   "cell_type": "markdown",
   "metadata": {},
   "source": [
    "Необходимо реализовать пользовательские команды (внимание! это не название функций, которые должны быть выразительными, а команды, которые вводит пользователь, чтобы получить необходимый результат):\n",
    "  \n",
    "- p – people – команда, которая спросит номер документа и выведет имя человека, которому он принадлежит;  \n",
    "- s – shelf – команда, которая спросит номер документа и выведет номер полки, на которой он находится  \n",
    "*Правильно обработайте ситуации, когда пользователь будет вводить несуществующий документ*.\n",
    "- l – list – команда, которая выведет список всех документов в формате   \n",
    "**passport \"2207 876234\" \"Василий Гупкин\"**  \n",
    "- as – add shelf – команда, которая спросит номер новой полки и добавит ее в перечень. *Предусмотрите случай, когда пользователь добавляет полку, которая уже существует*.\n",
    "- d – delete – команда, которая спросит номер документа и удалит его из каталога и из перечня полок. *Предусмотрите сценарий, когда пользователь вводит несуществующий документ*;  \n",
    "- m – move – команда, которая спросит номер документа и целевую полку и переместит его с текущей полки на целевую. *Корректно обработайте кейсы, когда пользователь пытается переместить несуществующий документ или переместить документ на несуществующую полку*;  \n",
    "- a – add – команда, которая добавит новый документ в каталог и в перечень полок, спросив его номер, тип, имя владельца и номер полки, на котором он будет храниться. *Корректно обработайте ситуацию, когда пользователь будет пытаться добавить документ на несуществующую полку*."
   ]
  },
  {
   "cell_type": "code",
   "execution_count": 63,
   "metadata": {},
   "outputs": [],
   "source": []
  },
  {
   "cell_type": "code",
   "execution_count": 51,
   "metadata": {},
   "outputs": [],
   "source": []
  },
  {
   "cell_type": "code",
   "execution_count": null,
   "metadata": {},
   "outputs": [],
   "source": []
  }
 ],
 "metadata": {
  "kernelspec": {
   "display_name": "Python 3",
   "language": "python",
   "name": "python3"
  },
  "language_info": {
   "codemirror_mode": {
    "name": "ipython",
    "version": 3
   },
   "file_extension": ".py",
   "mimetype": "text/x-python",
   "name": "python",
   "nbconvert_exporter": "python",
   "pygments_lexer": "ipython3",
   "version": "3.7.6"
  }
 },
 "nbformat": 4,
 "nbformat_minor": 2
}
