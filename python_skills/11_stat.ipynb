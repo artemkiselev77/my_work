{
 "cells": [
  {
   "cell_type": "code",
   "execution_count": 180,
   "metadata": {},
   "outputs": [],
   "source": [
    "import pandas as pd\n",
    "import numpy as np"
   ]
  },
  {
   "cell_type": "code",
   "execution_count": 179,
   "metadata": {},
   "outputs": [
    {
     "data": {
      "text/plain": [
       "0    3.0\n",
       "1    NaN\n",
       "2    1.0\n",
       "3    1.0\n",
       "4    NaN\n",
       "Name: per_puls, dtype: float64"
      ]
     },
     "execution_count": 179,
     "metadata": {},
     "output_type": "execute_result"
    }
   ],
   "source": [
    "horses = pd.read_csv('horse_data.csv', na_values='?', names=['surgery', 'age', 'hosp_num', 'rect_temp', 'puls', 'resp_rate', '7', 'per_puls', '9', '10', 'pain', '12', '13', '14', '15', '16', '17', '18', '19', '20', '21', '22', '23', '24', '25', '26', '27', '28']).loc[:,['surgery', 'age', 'hosp_num', 'rect_temp', 'puls', 'resp_rate', 'per_puls', 'pain']]\n",
    "\n",
    "#horses = horses.loc[horses['rect_temp']== '?', ['rect_temp', 'puls', 'resp_rate']] = np.nan\n",
    "horses[['rect_temp', 'puls', 'resp_rate']] = horses[['rect_temp', 'puls', 'resp_rate']].astype(float)\n",
    "horses.loc[horses['age'] > 1, 'age'] = 2\n",
    "horses.per_puls.head()"
   ]
  },
  {
   "cell_type": "code",
   "execution_count": 155,
   "metadata": {},
   "outputs": [
    {
     "name": "stdout",
     "output_type": "stream",
     "text": [
      "surgery - 0.3%\n",
      "age - 0.0%\n",
      "hosp_num - 0.0%\n",
      "rect_temp - 20.0%\n",
      "puls - 8.0%\n",
      "resp_rate - 19.3%\n",
      "per_puls - 23.0%\n",
      "pain - 18.3%\n"
     ]
    }
   ],
   "source": [
    "for col in horses:\n",
    "    pct_missing = horses[col].isnull().mean()\n",
    "    print(f'{col} - {pct_missing :.1%}')"
   ]
  },
  {
   "cell_type": "code",
   "execution_count": 156,
   "metadata": {},
   "outputs": [
    {
     "name": "stdout",
     "output_type": "stream",
     "text": [
      "113    36.8\n",
      "277    36.9\n",
      "70     37.0\n",
      "292    37.0\n",
      "190    37.1\n",
      "       ... \n",
      "165    39.4\n",
      "231    39.5\n",
      "287    39.5\n",
      "117    39.5\n",
      "162    39.5\n",
      "Name: rect_temp, Length: 226, dtype: float64\n",
      "44     35.4\n",
      "141    36.0\n",
      "238    36.1\n",
      "80     36.4\n",
      "118    36.5\n",
      "       ... \n",
      "274     NaN\n",
      "282     NaN\n",
      "288     NaN\n",
      "293     NaN\n",
      "295     NaN\n",
      "Name: rect_temp, Length: 300, dtype: float64\n",
      "40.8\n"
     ]
    }
   ],
   "source": [
    "# ВЫБРОСЫ rect_temp\n",
    "q1 = horses.rect_temp.quantile(0.25)\n",
    "q3 = horses.rect_temp.quantile(0.75)\n",
    "iqr = q3 - q1\n",
    "lower_bound = q1 - (1.5 * iqr) \n",
    "upper_bound = q3 + (1.5 * iqr)\n",
    "remove_outliers_rect_temp = horses[horses.rect_temp.between(lower_bound, upper_bound, inclusive=True)].sort_values('rect_temp')\n",
    "\n",
    "print(remove_outliers_rect_temp.rect_temp)\n",
    "\n",
    "print(horses.sort_values('rect_temp').rect_temp)\n",
    "print(horses.rect_temp.max())\n",
    "# у колонки rect_temp вполне нормальные выбросы, оставим их как есть \n",
    "\n"
   ]
  },
  {
   "cell_type": "code",
   "execution_count": 157,
   "metadata": {},
   "outputs": [
    {
     "name": "stdout",
     "output_type": "stream",
     "text": [
      "     surgery  age  hosp_num  rect_temp   puls  resp_rate  per_puls  pain\n",
      "44       1.0    1    535407       35.4  140.0       24.0       3.0   4.0\n",
      "141      2.0    1    522979       36.0   42.0       30.0       NaN   NaN\n",
      "238      2.0    1    528702       36.1   88.0        NaN       3.0   3.0\n",
      "80       1.0    1    527518       36.4   98.0       35.0       3.0   4.0\n",
      "118      1.0    1    533983       36.5   78.0       30.0       NaN   5.0\n",
      "..       ...  ...       ...        ...    ...        ...       ...   ...\n",
      "274      1.0    1    534624        NaN   76.0        NaN       3.0   NaN\n",
      "282      1.0    1    527544        NaN   70.0       16.0       4.0   2.0\n",
      "288      1.0    1    529428        NaN    NaN        NaN       NaN   NaN\n",
      "293      1.0    1    534004        NaN   78.0       24.0       3.0   NaN\n",
      "295      1.0    1    533886        NaN  120.0       70.0       NaN   2.0\n",
      "\n",
      "[300 rows x 8 columns]\n",
      "     surgery  age  hosp_num  rect_temp   puls  resp_rate  per_puls  pain\n",
      "44       1.0    1    535407       35.4  140.0       24.0       3.0   4.0\n",
      "141      2.0    1    522979       36.0   42.0       30.0       NaN   NaN\n",
      "238      2.0    1    528702       36.1   88.0        NaN       3.0   3.0\n",
      "80       1.0    1    527518       36.4   98.0       35.0       3.0   4.0\n",
      "298      1.0    1    530612       36.5  100.0       24.0       3.0   3.0\n",
      "..       ...  ...       ...        ...    ...        ...       ...   ...\n",
      "20       1.0    1    530157       39.9   72.0       60.0       1.0   5.0\n",
      "281      2.0    1    530624       40.0   78.0        NaN       3.0   2.0\n",
      "54       2.0    1    529461       40.3  114.0       36.0       3.0   2.0\n",
      "91       2.0    1    529461       40.3  114.0       36.0       3.0   2.0\n",
      "259      1.0    1    527734       40.8   72.0       42.0       3.0   2.0\n",
      "\n",
      "[300 rows x 8 columns]\n"
     ]
    }
   ],
   "source": [
    "# Замена средним значением \n",
    "fill_rect_temp = pd.read_csv('horse_data.csv', na_values='?', names=['surgery', 'age', 'hosp_num', 'rect_temp', 'puls', 'resp_rate', '7', 'per_puls', '9', '10', 'pain', '12', '13', '14', '15', '16', '17', '18', '19', '20', '21', '22', '23', '24', '25', '26', '27', '28']).loc[:,['surgery', 'age', 'hosp_num', 'rect_temp', 'puls', 'resp_rate', 'per_puls', 'pain']]\n",
    "fill_rect_temp.rect_temp.fillna(horses.rect_temp.mean(), inplace=True)\n",
    "#fill_rect_temp.rect_temp.fillna(horses.rect_temp.mean()).isna().sum()\n",
    "#print(fill_rect_temp.sort_values('rect_temp'))\n",
    "print(horses.sort_values('rect_temp'))\n",
    "print(fill_rect_temp.sort_values('rect_temp'))"
   ]
  },
  {
   "cell_type": "code",
   "execution_count": 158,
   "metadata": {},
   "outputs": [
    {
     "name": "stdout",
     "output_type": "stream",
     "text": [
      "38.16791666666669\n",
      "38.16791666666669\n",
      "38.16791666666669\n",
      "0.6547050149748525\n",
      "0.42863865663322176\n"
     ]
    }
   ],
   "source": [
    "print(fill_rect_temp.rect_temp.mean())\n",
    "print(fill_rect_temp.rect_temp.median())\n",
    "print(fill_rect_temp.rect_temp.mode()[0])\n",
    "\n",
    "print(fill_rect_temp.rect_temp.std())\n",
    "print(fill_rect_temp.rect_temp.var())\n"
   ]
  },
  {
   "cell_type": "code",
   "execution_count": 159,
   "metadata": {},
   "outputs": [
    {
     "name": "stdout",
     "output_type": "stream",
     "text": [
      "38.16791666666669\n",
      "38.2\n",
      "38.0\n",
      "0.7322886641121578\n",
      "0.5362466875871686\n"
     ]
    }
   ],
   "source": [
    "print(horses.rect_temp.mean())\n",
    "print(horses.rect_temp.median())\n",
    "print(horses.rect_temp.mode()[0])\n",
    "\n",
    "print(horses.rect_temp.std())\n",
    "print(horses.rect_temp.var())"
   ]
  },
  {
   "cell_type": "code",
   "execution_count": 160,
   "metadata": {},
   "outputs": [
    {
     "name": "stdout",
     "output_type": "stream",
     "text": [
      "130     30.0\n",
      "232     30.0\n",
      "242     36.0\n",
      "276     36.0\n",
      "203     36.0\n",
      "       ...  \n",
      "148    132.0\n",
      "135    136.0\n",
      "103    140.0\n",
      "44     140.0\n",
      "39     146.0\n",
      "Name: puls, Length: 271, dtype: float64\n",
      "184.0\n",
      "39     146.0\n",
      "41     150.0\n",
      "275    150.0\n",
      "55     160.0\n",
      "3      164.0\n",
      "255    184.0\n",
      "5        NaN\n",
      "28       NaN\n",
      "52       NaN\n",
      "56       NaN\n",
      "58       NaN\n",
      "74       NaN\n",
      "78       NaN\n",
      "83       NaN\n",
      "93       NaN\n",
      "115      NaN\n",
      "117      NaN\n",
      "126      NaN\n",
      "136      NaN\n",
      "151      NaN\n",
      "159      NaN\n",
      "160      NaN\n",
      "174      NaN\n",
      "175      NaN\n",
      "182      NaN\n",
      "204      NaN\n",
      "207      NaN\n",
      "216      NaN\n",
      "227      NaN\n",
      "288      NaN\n",
      "Name: puls, dtype: float64\n"
     ]
    }
   ],
   "source": [
    "#ВЫБРОСЫ puls\n",
    "q1 = horses.puls.quantile(0.25)\n",
    "q3 = horses.puls.quantile(0.75)\n",
    "iqr = q3 - q1\n",
    "lower_bound = q1 - (1.5 * iqr) \n",
    "upper_bound = q3 + (1.5 * iqr)\n",
    "remove_outliers_puls = horses[horses.puls.between(lower_bound, upper_bound, inclusive=True)].sort_values('rect_temp')\n",
    "\n",
    "print(remove_outliers_puls.sort_values('puls').puls)\n",
    "print(horses.puls.max())\n",
    "print(horses.sort_values('puls').puls.tail(30))\n",
    "# Ничего анамального нету, просто одна ллошадь с высоким пульсом, но лучше заменить все пропуски модой"
   ]
  },
  {
   "cell_type": "code",
   "execution_count": 161,
   "metadata": {},
   "outputs": [
    {
     "name": "stdout",
     "output_type": "stream",
     "text": [
      "232    30.0\n",
      "130    30.0\n",
      "203    36.0\n",
      "276    36.0\n",
      "242    36.0\n",
      "       ... \n",
      "204     NaN\n",
      "207     NaN\n",
      "216     NaN\n",
      "227     NaN\n",
      "288     NaN\n",
      "Name: puls, Length: 300, dtype: float64\n",
      "232     30.0\n",
      "130     30.0\n",
      "203     36.0\n",
      "276     36.0\n",
      "242     36.0\n",
      "       ...  \n",
      "41     150.0\n",
      "275    150.0\n",
      "55     160.0\n",
      "3      164.0\n",
      "255    184.0\n",
      "Name: puls, Length: 300, dtype: float64\n"
     ]
    }
   ],
   "source": [
    "# Замена средним значением \n",
    "fill_puls = pd.read_csv('horse_data.csv', na_values='?', names=['surgery', 'age', 'hosp_num', 'rect_temp', 'puls', 'resp_rate', '7', 'per_puls', '9', '10', 'pain', '12', '13', '14', '15', '16', '17', '18', '19', '20', '21', '22', '23', '24', '25', '26', '27', '28']).loc[:,['surgery', 'age', 'hosp_num', 'rect_temp', 'puls', 'resp_rate', 'per_puls', 'pain']]\n",
    "fill_puls.puls.fillna(horses.puls.mode()[0], inplace=True)\n",
    "#fill_rect_temp.rect_temp.fillna(horses.rect_temp.mean()).isna().sum()\n",
    "print(horses.sort_values('puls').puls)\n",
    "print(fill_puls.sort_values('puls').puls)"
   ]
  },
  {
   "cell_type": "code",
   "execution_count": 162,
   "metadata": {},
   "outputs": [
    {
     "name": "stdout",
     "output_type": "stream",
     "text": [
      "70.0\n",
      "60.0\n",
      "48.0\n",
      "28.215961231675678\n",
      "796.1404682274248\n"
     ]
    }
   ],
   "source": [
    "print(fill_puls.puls.mean())\n",
    "print(fill_puls.puls.median())\n",
    "print(fill_puls.puls.mode()[0])\n",
    "\n",
    "print(fill_puls.puls.std())\n",
    "print(fill_puls.puls.var())"
   ]
  },
  {
   "cell_type": "code",
   "execution_count": 163,
   "metadata": {},
   "outputs": [
    {
     "name": "stdout",
     "output_type": "stream",
     "text": [
      "71.91304347826087\n",
      "64.0\n",
      "48.0\n",
      "28.630556660735003\n",
      "819.7087747035575\n"
     ]
    }
   ],
   "source": [
    "print(horses.puls.mean())\n",
    "print(horses.puls.median())\n",
    "print(horses.puls.mode()[0])\n",
    "\n",
    "print(horses.puls.std())\n",
    "print(horses.puls.var())"
   ]
  },
  {
   "cell_type": "code",
   "execution_count": 164,
   "metadata": {},
   "outputs": [
    {
     "name": "stdout",
     "output_type": "stream",
     "text": [
      "190     8.0\n",
      "203     9.0\n",
      "140     9.0\n",
      "89     10.0\n",
      "162    10.0\n",
      "       ... \n",
      "220    58.0\n",
      "23     60.0\n",
      "248    60.0\n",
      "20     60.0\n",
      "185    60.0\n",
      "Name: resp_rate, Length: 225, dtype: float64\n",
      "96.0\n",
      "244    88.0\n",
      "186    90.0\n",
      "269    90.0\n",
      "106    96.0\n",
      "39     96.0\n",
      "       ... \n",
      "271     NaN\n",
      "274     NaN\n",
      "281     NaN\n",
      "284     NaN\n",
      "288     NaN\n",
      "Name: resp_rate, Length: 63, dtype: float64\n"
     ]
    }
   ],
   "source": [
    "#ВЫБРОСЫ resp_rate\n",
    "q1 = horses.resp_rate.quantile(0.25)\n",
    "q3 = horses.resp_rate.quantile(0.75)\n",
    "iqr = q3 - q1\n",
    "lower_bound = q1 - (1.5 * iqr) \n",
    "upper_bound = q3 + (1.5 * iqr)\n",
    "remove_outliers_resp_rate = horses[horses.resp_rate.between(lower_bound, upper_bound, inclusive=True)].sort_values('rect_temp')\n",
    "\n",
    "print(remove_outliers_resp_rate.sort_values('resp_rate').resp_rate)\n",
    "print(horses.resp_rate.max())\n",
    "print(horses.sort_values('resp_rate').resp_rate.tail(63))\n",
    "# У КОЛОНКИ resp_rate ВЫБРОСЫ ВПОЛНЕ НОРАМАЛЬНЫЕ, ЗАМЕНИТЬ ЛУЧШЕ СРЕДНИМ ЗНАЧЕНИЕМ \n"
   ]
  },
  {
   "cell_type": "code",
   "execution_count": 168,
   "metadata": {},
   "outputs": [
    {
     "name": "stdout",
     "output_type": "stream",
     "text": [
      "190     8.0\n",
      "203     9.0\n",
      "140     9.0\n",
      "162    10.0\n",
      "89     10.0\n",
      "       ... \n",
      "271     NaN\n",
      "274     NaN\n",
      "281     NaN\n",
      "284     NaN\n",
      "288     NaN\n",
      "Name: resp_rate, Length: 300, dtype: float64\n",
      "190     8.0\n",
      "203     9.0\n",
      "140     9.0\n",
      "89     10.0\n",
      "209    10.0\n",
      "       ... \n",
      "244    88.0\n",
      "186    90.0\n",
      "269    90.0\n",
      "106    96.0\n",
      "39     96.0\n",
      "Name: resp_rate, Length: 300, dtype: float64\n"
     ]
    }
   ],
   "source": [
    "# Замена средним значением \n",
    "fill_resp_rate = pd.read_csv('horse_data.csv', na_values='?', names=['surgery', 'age', 'hosp_num', 'rect_temp', 'puls', 'resp_rate', '7', 'per_puls', '9', '10', 'pain', '12', '13', '14', '15', '16', '17', '18', '19', '20', '21', '22', '23', '24', '25', '26', '27', '28']).loc[:,['surgery', 'age', 'hosp_num', 'rect_temp', 'puls', 'resp_rate', 'per_puls', 'pain']]\n",
    "fill_resp_rate.resp_rate.fillna(horses.resp_rate.mean(), inplace=True)\n",
    "#fill_rect_temp.rect_temp.fillna(horses.rect_temp.mean()).isna().sum()\n",
    "print(horses.sort_values('resp_rate').resp_rate)\n",
    "print(fill_resp_rate.sort_values('resp_rate').resp_rate)"
   ]
  },
  {
   "cell_type": "code",
   "execution_count": 169,
   "metadata": {},
   "outputs": [
    {
     "name": "stdout",
     "output_type": "stream",
     "text": [
      "30.417355371900843\n",
      "30.0\n",
      "30.417355371900825\n",
      "15.838951933528783\n",
      "250.87239835263517\n"
     ]
    }
   ],
   "source": [
    "print(fill_resp_rate.resp_rate.mean())\n",
    "print(fill_resp_rate.resp_rate.median())\n",
    "print(fill_resp_rate.resp_rate.mode()[0])\n",
    "\n",
    "print(fill_resp_rate.resp_rate.std())\n",
    "print(fill_resp_rate.resp_rate.var())"
   ]
  },
  {
   "cell_type": "code",
   "execution_count": 170,
   "metadata": {},
   "outputs": [
    {
     "name": "stdout",
     "output_type": "stream",
     "text": [
      "30.417355371900825\n",
      "24.5\n",
      "20.0\n",
      "17.642231385134664\n",
      "311.24832824663054\n"
     ]
    }
   ],
   "source": [
    "print(horses.resp_rate.mean())\n",
    "print(horses.resp_rate.median())\n",
    "print(horses.resp_rate.mode()[0])\n",
    "\n",
    "print(horses.resp_rate.std())\n",
    "print(horses.resp_rate.var())"
   ]
  },
  {
   "cell_type": "code",
   "execution_count": 171,
   "metadata": {},
   "outputs": [
    {
     "name": "stdout",
     "output_type": "stream",
     "text": [
      "299    1.0\n",
      "128    1.0\n",
      "129    1.0\n",
      "130    1.0\n",
      "242    1.0\n",
      "      ... \n",
      "149    2.0\n",
      "153    2.0\n",
      "93     2.0\n",
      "150    2.0\n",
      "132    NaN\n",
      "Name: surgery, Length: 300, dtype: float64\n",
      "299    1.0\n",
      "129    1.0\n",
      "130    1.0\n",
      "242    1.0\n",
      "132    1.0\n",
      "      ... \n",
      "147    2.0\n",
      "150    2.0\n",
      "153    2.0\n",
      "93     2.0\n",
      "149    2.0\n",
      "Name: surgery, Length: 300, dtype: float64\n"
     ]
    }
   ],
   "source": [
    "# Заменим в столбце surgery? все пропуски модой\n",
    "fill_surgery = pd.read_csv('horse_data.csv', na_values='?', names=['surgery', 'age', 'hosp_num', 'rect_temp', 'puls', 'resp_rate', '7', 'per_puls', '9', '10', 'pain', '12', '13', '14', '15', '16', '17', '18', '19', '20', '21', '22', '23', '24', '25', '26', '27', '28']).loc[:,['surgery', 'age', 'hosp_num', 'rect_temp', 'puls', 'resp_rate', 'per_puls', 'pain']]\n",
    "fill_surgery.surgery.fillna(horses.surgery.mode()[0], inplace=True)\n",
    "#fill_rect_temp.rect_temp.fillna(horses.rect_temp.mean()).isna().sum()\n",
    "print(horses.sort_values('surgery').surgery)\n",
    "print(fill_surgery.sort_values('surgery').surgery)"
   ]
  },
  {
   "cell_type": "code",
   "execution_count": null,
   "metadata": {},
   "outputs": [],
   "source": []
  }
 ],
 "metadata": {
  "kernelspec": {
   "display_name": "Python 3",
   "language": "python",
   "name": "python3"
  },
  "language_info": {
   "codemirror_mode": {
    "name": "ipython",
    "version": 3
   },
   "file_extension": ".py",
   "mimetype": "text/x-python",
   "name": "python",
   "nbconvert_exporter": "python",
   "pygments_lexer": "ipython3",
   "version": "3.8.3"
  }
 },
 "nbformat": 4,
 "nbformat_minor": 2
}
